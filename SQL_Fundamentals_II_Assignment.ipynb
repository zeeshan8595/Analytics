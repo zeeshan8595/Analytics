{
  "nbformat": 4,
  "nbformat_minor": 0,
  "metadata": {
    "colab": {
      "name": "SQL Fundamentals  II - Assignment.ipynb",
      "provenance": [],
      "collapsed_sections": []
    },
    "kernelspec": {
      "name": "python3",
      "display_name": "Python 3"
    }
  },
  "cells": [
    {
      "cell_type": "markdown",
      "metadata": {
        "id": "LSx52toYvkE0"
      },
      "source": [
        "# <b> Question 1 : Return the customer IDs of customers who have spent at least $110 with the staff member who has an ID of 2.\n"
      ]
    },
    {
      "cell_type": "markdown",
      "metadata": {
        "id": "grhpLeadvkHP"
      },
      "source": [
        "# <b> Question 2 :  How many films begin with the letter J?\n"
      ]
    },
    {
      "cell_type": "markdown",
      "metadata": {
        "id": "7ADgnW_VvkJg"
      },
      "source": [
        "# <b> Question 3 : What customer has the highest customer ID number whose name starts with an 'E' and has an address ID lower than 500?"
      ]
    },
    {
      "cell_type": "code",
      "metadata": {
        "id": "NGneZu8nxXN9"
      },
      "source": [
        ""
      ],
      "execution_count": null,
      "outputs": []
    }
  ]
}